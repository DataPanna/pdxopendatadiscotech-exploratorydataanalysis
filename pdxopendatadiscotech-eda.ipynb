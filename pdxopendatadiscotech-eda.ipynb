{
 "cells": [
  {
   "cell_type": "code",
   "execution_count": 26,
   "metadata": {},
   "outputs": [],
   "source": [
    "import requests\n",
    "import json\n",
    "import pandas as pd\n",
    "import pyarrow as pa"
   ]
  },
  {
   "cell_type": "code",
   "execution_count": 67,
   "metadata": {},
   "outputs": [
    {
     "name": "stdout",
     "output_type": "stream",
     "text": [
      "Data from Sample Data Set returned successfully. Here are the first 5 rows:\n",
      "                                          attributes\n",
      "0  {'OBJECTID': 1, 'Neighborhood': 'Alameda', 'PO...\n",
      "1  {'OBJECTID': 2, 'Neighborhood': 'Arbor Lodge',...\n",
      "2  {'OBJECTID': 3, 'Neighborhood': 'Ardenwald-Joh...\n",
      "3  {'OBJECTID': 4, 'Neighborhood': 'Argay Terrace...\n",
      "4  {'OBJECTID': 5, 'Neighborhood': 'Arlington Hei...\n"
     ]
    }
   ],
   "source": [
    "# Get data from an example data set\n",
    "sample_dataset_url = 'https://www.portlandmaps.com/arcgis/rest/services/Public/COP_OpenData_Miscellaneous/MapServer/1354/query?where=1=1&outFields=*&f=json'\n",
    "\n",
    "# In the current case, we're looking at neighborhood profiles\n",
    "neighborhood_profiles_request = requests.get(sample_dataset_url)\n",
    "if (neighborhood_profiles_request.status_code == 200):\n",
    "    neighborhood_profiles_json = json.loads(neighborhood_profiles_request.content)\n",
    "    neighborhood_profiles = pd.DataFrame.from_dict(neighborhood_profiles_json['features'])\n",
    "    print('Data from Sample Data Set returned successfully. Here are the first 5 rows:')\n",
    "    print(neighborhood_profiles.head())\n",
    "else:\n",
    "    print('URL for Sample Data Set is invalid')"
   ]
  }
 ],
 "metadata": {
  "kernelspec": {
   "display_name": "pdxopendatadiscotech-eda",
   "language": "python",
   "name": "python3"
  },
  "language_info": {
   "codemirror_mode": {
    "name": "ipython",
    "version": 3
   },
   "file_extension": ".py",
   "mimetype": "text/x-python",
   "name": "python",
   "nbconvert_exporter": "python",
   "pygments_lexer": "ipython3",
   "version": "3.9.2"
  },
  "orig_nbformat": 4
 },
 "nbformat": 4,
 "nbformat_minor": 2
}
