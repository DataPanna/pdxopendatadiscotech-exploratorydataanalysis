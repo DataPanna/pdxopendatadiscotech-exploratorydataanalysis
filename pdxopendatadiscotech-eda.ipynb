{
 "cells": [
  {
   "cell_type": "code",
   "execution_count": 54,
   "metadata": {},
   "outputs": [],
   "source": [
    "import requests\n",
    "import json\n",
    "import pandas as pd\n",
    "# import matplotlib.pyplot as plt\n",
    "import pyarrow as pa"
   ]
  },
  {
   "cell_type": "code",
   "execution_count": 28,
   "metadata": {},
   "outputs": [
    {
     "name": "stdout",
     "output_type": "stream",
     "text": [
      "Data from Sample Data Set returned successfully. Here are the first 5 rows:\n",
      "                                          attributes\n",
      "0  {'OBJECTID': 1, 'Neighborhood': 'Alameda', 'PO...\n",
      "1  {'OBJECTID': 2, 'Neighborhood': 'Arbor Lodge',...\n",
      "2  {'OBJECTID': 3, 'Neighborhood': 'Ardenwald-Joh...\n",
      "3  {'OBJECTID': 4, 'Neighborhood': 'Argay Terrace...\n",
      "4  {'OBJECTID': 5, 'Neighborhood': 'Arlington Hei...\n"
     ]
    }
   ],
   "source": [
    "# Get data from an example data set\n",
    "sample_dataset_url = 'https://www.portlandmaps.com/arcgis/rest/services/Public/COP_OpenData_Miscellaneous/MapServer/1354/query?where=1=1&outFields=*&f=json'\n",
    "\n",
    "# In the current case, we're looking at neighborhood profiles\n",
    "neighborhood_profiles_request = requests.get(sample_dataset_url)\n",
    "if (neighborhood_profiles_request.status_code == 200):\n",
    "    neighborhood_profiles_json = json.loads(neighborhood_profiles_request.content)\n",
    "    neighborhood_profiles = pd.DataFrame.from_dict(neighborhood_profiles_json['features'])\n",
    "    print('Data from Sample Data Set returned successfully. Here are the first 5 rows:')\n",
    "    print(neighborhood_profiles.head())\n",
    "else:\n",
    "    print('URL for Sample Data Set is invalid')"
   ]
  },
  {
   "cell_type": "code",
   "execution_count": 49,
   "metadata": {},
   "outputs": [
    {
     "name": "stdout",
     "output_type": "stream",
     "text": [
      "Here is the general shape of the data:\n",
      "        OBJECTID          POP10           HU10     poplt18_10          POP20  \\\n",
      "count  99.000000      99.000000      99.000000      99.000000      99.000000   \n",
      "mean   50.000000   12010.484848    5448.939394    2301.525253   13417.707071   \n",
      "std    28.722813   58285.410691   26490.829538   11171.943241   65139.198846   \n",
      "min     1.000000       2.000000       1.000000       0.000000      40.000000   \n",
      "25%    25.500000    2883.500000    1227.000000     361.500000    3156.000000   \n",
      "50%    50.000000    5346.000000    2319.000000     992.000000    5866.000000   \n",
      "75%    74.500000    7932.500000    3875.500000    1408.500000    8949.000000   \n",
      "max    99.000000  583776.000000  265439.000000  111523.000000  652503.000000   \n",
      "\n",
      "                HU20        HHPOP20        poplt18     NH_NAT20      NH_ASN20  \\\n",
      "count      99.000000      99.000000      99.000000    99.000000     99.000000   \n",
      "mean     6192.292929   12998.848485    2294.505051    87.343434   1073.151515   \n",
      "std     30149.533049   63136.679071   11128.122821   428.452202   5268.284158   \n",
      "min         5.000000      20.000000       7.000000     0.000000      1.000000   \n",
      "25%      1373.000000    2924.000000     431.500000    12.500000    134.000000   \n",
      "50%      2544.000000    5568.000000     925.000000    29.000000    278.000000   \n",
      "75%      4111.500000    8844.000000    1462.000000    52.000000    609.000000   \n",
      "max    302034.000000  632409.000000  111229.000000  4273.000000  52245.000000   \n",
      "\n",
      "       ...  hhinc__35000_to__39999  hhinc__40000_to__44999  \\\n",
      "count  ...               99.000000               99.000000   \n",
      "mean   ...              187.736581              203.023106   \n",
      "std    ...              912.962546              992.581206   \n",
      "min    ...                0.000000                0.000000   \n",
      "25%    ...               19.759982               22.219528   \n",
      "50%    ...               55.601601               66.000000   \n",
      "75%    ...              125.339970              148.060345   \n",
      "max    ...             9107.000000             9911.000000   \n",
      "\n",
      "       hhinc__45000_to__49999  hhinc__50000_to__59999  hhinc__60000_to__74999  \\\n",
      "count               99.000000               99.000000               99.000000   \n",
      "mean               194.725233              393.366420              538.076644   \n",
      "std                959.182274             1917.710494             2620.741636   \n",
      "min                  0.000000                0.000000                0.000000   \n",
      "25%                 24.381136               67.385011               76.212643   \n",
      "50%                 67.829713              142.391399              242.298177   \n",
      "75%                131.308172              258.839478              422.546557   \n",
      "max               9574.000000            19170.000000            26242.000000   \n",
      "\n",
      "       hhinc__75000_to__99999  hhinc__100000_to__124999  \\\n",
      "count               99.000000                 99.000000   \n",
      "mean               716.978539                559.438963   \n",
      "std               3494.062016               2715.099697   \n",
      "min                  1.244372                  1.428571   \n",
      "25%                121.306375                131.157330   \n",
      "50%                301.109206                221.749752   \n",
      "75%                559.442016                428.416302   \n",
      "max              34980.000000              27212.000000   \n",
      "\n",
      "       hhinc__125000_to__149999  hhinc__150000_to__199999  \\\n",
      "count                 99.000000                 99.000000   \n",
      "mean                 403.476257                483.316051   \n",
      "std                 1964.293384               2367.733850   \n",
      "min                    0.000000                  0.000000   \n",
      "25%                   85.273276                118.370723   \n",
      "50%                  179.898671                223.700137   \n",
      "75%                  307.733891                343.870533   \n",
      "max                19688.000000              23725.000000   \n",
      "\n",
      "       hhinc__200000_or_more  \n",
      "count              99.000000  \n",
      "mean              632.461310  \n",
      "std              3023.690956  \n",
      "min                 0.131510  \n",
      "25%               112.265630  \n",
      "50%               218.742683  \n",
      "75%               492.784604  \n",
      "max             30271.000000  \n",
      "\n",
      "[8 rows x 179 columns]\n"
     ]
    }
   ],
   "source": [
    "# Let's apply basic data profiling techniques to the sample data\n",
    "np = pd.DataFrame(pd.json_normalize(neighborhood_profiles_json['features']))\n",
    "np.rename(columns=lambda name: name.replace(\"attributes.\", \"\"), inplace=True)\n",
    "\n",
    "print('Here is the general shape of the data:')\n",
    "print(np.describe())"
   ]
  },
  {
   "cell_type": "code",
   "execution_count": 68,
   "metadata": {},
   "outputs": [],
   "source": [
    "# Isolate features for analysis\n",
    "neighborhood_populations_notcleaned = np[['Neighborhood', 'POP10', 'POP20']]\n",
    "\n",
    "# There appears to be a record in the data that represents all of the data summed together; remove it\n",
    "neighborhood_populations = neighborhood_populations_notcleaned[(neighborhood_populations_notcleaned.Neighborhood != 'City of Portland')]\n",
    "print(neighborhood_populations.describe().T)\n",
    "print(neighborhood_populations.sort_values('POP20', ascending=False))"
   ]
  },
  {
   "cell_type": "code",
   "execution_count": 75,
   "metadata": {},
   "outputs": [
    {
     "name": "stdout",
     "output_type": "stream",
     "text": [
      "Portland's Total Population in 2010 was: 605262\n",
      "Portland's Total Popultaion in 2020 was: 675850\n",
      "This is a Total Growth of: 70588 or 0.11662387528045706%.\n"
     ]
    }
   ],
   "source": [
    "# This cell analyzes the Total Population of the City of Portland in 2010 and 2020\n",
    "portland2010population = sum(neighborhood_populations['POP10'])\n",
    "portland2020population = sum(neighborhood_populations['POP20'])\n",
    "population_growth_number = portland2020population - portland2010population\n",
    "population_growth_perc = population_growth_number / portland2010population\n",
    "print(\"Portland's Total Population in 2010 was: \" + str(portland2010population))\n",
    "print(\"Portland's Total Popultaion in 2020 was: \" + str(portland2020population))\n",
    "print(\"This is a Total Growth of: \" + str(population_growth_number) + \" or \" + str(population_growth_perc) + \"%.\")"
   ]
  },
  {
   "cell_type": "code",
   "execution_count": null,
   "metadata": {},
   "outputs": [],
   "source": []
  }
 ],
 "metadata": {
  "kernelspec": {
   "display_name": "pdxopendatadiscotech-eda",
   "language": "python",
   "name": "python3"
  },
  "language_info": {
   "codemirror_mode": {
    "name": "ipython",
    "version": 3
   },
   "file_extension": ".py",
   "mimetype": "text/x-python",
   "name": "python",
   "nbconvert_exporter": "python",
   "pygments_lexer": "ipython3",
   "version": "3.9.2"
  },
  "orig_nbformat": 4
 },
 "nbformat": 4,
 "nbformat_minor": 2
}
